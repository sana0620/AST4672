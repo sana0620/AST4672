{
 "cells": [
  {
   "cell_type": "code",
   "execution_count": 1,
   "id": "c8510651-df46-40ee-b476-c96430e11bc6",
   "metadata": {},
   "outputs": [],
   "source": [
    "import numpy as np\n",
    "import os\n",
    "import random\n",
    "from astropy.io import fits"
   ]
  },
  {
   "cell_type": "code",
   "execution_count": 2,
   "id": "ae9f9763-9312-4a72-add2-f33cf4f96083",
   "metadata": {},
   "outputs": [
    {
     "data": {
      "text/plain": [
       "['stars_13s_7',\n",
       " 'rdpharocor_stars_13s_1',\n",
       " 'stars_13s_8',\n",
       " 'stars_13s_4',\n",
       " 'stars_13s_2',\n",
       " 'stars_13s_5',\n",
       " 'stars_13s_3',\n",
       " 'stars_13s_6',\n",
       " 'stars_13s_1']"
      ]
     },
     "execution_count": 2,
     "metadata": {},
     "output_type": "execute_result"
    }
   ],
   "source": [
    "datadir = 'hw7_data_export'\n",
    "fext = '.fits'\n",
    "\n",
    "objfile = []\n",
    "darkfile = []\n",
    "\n",
    "all_files = os.listdir(datadir)\n",
    "#print(all_files)\n",
    "\n",
    "for f in all_files:\n",
    "    \n",
    "    if 'stars_13s_' in f:\n",
    "        objfile.append( f[  : -5] ) \n",
    "    elif 'dark_13s_' in f:\n",
    "        darkfile.append( f[  : -5] )\n",
    "\n",
    "objfile"
   ]
  },
  {
   "cell_type": "code",
   "execution_count": 3,
   "id": "bf15f297-ebd4-4800-8951-d43e44ed4075",
   "metadata": {},
   "outputs": [],
   "source": [
    "objfile, darkfile = sorted(objfile), sorted(darkfile)"
   ]
  },
  {
   "cell_type": "code",
   "execution_count": 4,
   "id": "8867ff8b-e7cd-4849-a77f-20cbd264a7d3",
   "metadata": {},
   "outputs": [
    {
     "name": "stdout",
     "output_type": "stream",
     "text": [
      "9 5\n"
     ]
    }
   ],
   "source": [
    "nobj = len(objfile)\n",
    "ndark = len(darkfile)\n",
    "print(nobj,ndark)"
   ]
  },
  {
   "cell_type": "code",
   "execution_count": 5,
   "id": "1d7ece50-1636-4ef7-8403-f5d168c62df5",
   "metadata": {},
   "outputs": [
    {
     "name": "stdout",
     "output_type": "stream",
     "text": [
      "Data array dimensions: ny = 1024, nx = 1024\n",
      "Number of object files (nobj): 9\n",
      "Number of dark files (ndark): 5\n"
     ]
    }
   ],
   "source": [
    "if objfile:\n",
    "    random_obj_filename = random.choice(objfile) + fext\n",
    "    with fits.open(random_obj_filename) as hdul:\n",
    "        data = hdul[0].data\n",
    "        ny, nx = data.shape\n",
    "\n",
    "print(f\"Data array dimensions: ny = {ny}, nx = {nx}\")\n",
    "print(f\"Number of object files (nobj): {nobj}\")\n",
    "print(f\"Number of dark files (ndark): {ndark}\")"
   ]
  },
  {
   "cell_type": "code",
   "execution_count": 6,
   "id": "a2b2ac12-a914-4c35-addc-9d5cf6078a01",
   "metadata": {},
   "outputs": [],
   "source": [
    "objcube = np.zeros((nobj, ny, nx), dtype = np.float64)\n",
    "darkcube = np.zeros((ndark, ny, nx), dtype = np.float64 )"
   ]
  },
  {
   "cell_type": "code",
   "execution_count": null,
   "id": "16e67757-f0f7-47be-b649-da76f7d114c4",
   "metadata": {},
   "outputs": [],
   "source": []
  },
  {
   "cell_type": "code",
   "execution_count": 7,
   "id": "ac3a5598-860a-46d8-8abc-5fa137b0c98a",
   "metadata": {},
   "outputs": [
    {
     "name": "stdout",
     "output_type": "stream",
     "text": [
      "Object data cube shape:  (9, 1024, 1024)\n",
      "Object DATE-OBS:         2002-01-27\n",
      "Object TIME-OBS:         \n",
      "Dark data cube shape:    (5, 1024, 1024)\n",
      "Dark DATE-OBS:           2002-01-27\n",
      "Dark TIME-OBS:           12:43:54\n"
     ]
    }
   ],
   "source": [
    "for i, fname in enumerate(objfile):\n",
    "    with fits.open(fname + fext) as hdul:\n",
    "        objcube[i] = hdul[0].data\n",
    "        if i == nobj - 1:\n",
    "            objhead = hdul[0].header\n",
    "\n",
    "for i, fname in enumerate(darkfile):\n",
    "    with fits.open( fname + fext ) as hdul:\n",
    "        darkcube[i] = hdul[0].data\n",
    "        if i == ndark - 1:\n",
    "            darkhead = hdul[0].header\n",
    "\n",
    "print(f\"Object data cube shape:  {objcube.shape}\")\n",
    "print(f\"Object DATE-OBS:         {objhead.get('DATE-OBS')}\")\n",
    "print(f\"Object TIME-OBS:         {objhead.get('TIME-OBS')}\")\n",
    "\n",
    "print(f\"Dark data cube shape:    {darkcube.shape}\")\n",
    "print(f\"Dark DATE-OBS:           {darkhead.get('DATE-OBS')}\")\n",
    "print(f\"Dark TIME-OBS:           {darkhead.get('TIME-OBS')}\")"
   ]
  },
  {
   "cell_type": "code",
   "execution_count": null,
   "id": "462075ba-11ec-43b4-aa70-52b73aa31fae",
   "metadata": {},
   "outputs": [],
   "source": []
  },
  {
   "cell_type": "code",
   "execution_count": null,
   "id": "d710c612-c467-4dac-a3b4-5e6e6db238aa",
   "metadata": {},
   "outputs": [],
   "source": []
  },
  {
   "cell_type": "code",
   "execution_count": null,
   "id": "c82e356e-9db1-4b8a-a891-8291631c2013",
   "metadata": {},
   "outputs": [],
   "source": []
  },
  {
   "cell_type": "code",
   "execution_count": null,
   "id": "d2fa30b5-4a30-4da7-a76e-5e5f455a0578",
   "metadata": {},
   "outputs": [],
   "source": []
  },
  {
   "cell_type": "code",
   "execution_count": null,
   "id": "d0b77dc5-593e-4766-8f3b-1e9b309b8c79",
   "metadata": {},
   "outputs": [],
   "source": []
  },
  {
   "cell_type": "code",
   "execution_count": null,
   "id": "95a61d4e-a92b-4cfb-8a7c-dedb6e779f57",
   "metadata": {},
   "outputs": [],
   "source": []
  }
 ],
 "metadata": {
  "kernelspec": {
   "display_name": "Python 3 (ipykernel)",
   "language": "python",
   "name": "python3"
  },
  "language_info": {
   "codemirror_mode": {
    "name": "ipython",
    "version": 3
   },
   "file_extension": ".py",
   "mimetype": "text/x-python",
   "name": "python",
   "nbconvert_exporter": "python",
   "pygments_lexer": "ipython3",
   "version": "3.13.5"
  }
 },
 "nbformat": 4,
 "nbformat_minor": 5
}
